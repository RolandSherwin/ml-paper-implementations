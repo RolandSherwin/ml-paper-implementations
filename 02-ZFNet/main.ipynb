{
 "cells": [
  {
   "cell_type": "code",
   "execution_count": 2,
   "id": "602e0eb2",
   "metadata": {},
   "outputs": [],
   "source": [
    "import tensorflow as tf\n",
    "import numpy as np\n",
    "import tensorflow.keras.layers as tfl\n",
    "import tensorflow.keras.backend as K\n",
    "\n",
    "from tensorflow.keras.applications.vgg16 import VGG16"
   ]
  },
  {
   "cell_type": "code",
   "execution_count": 6,
   "id": "02c2f7e5",
   "metadata": {},
   "outputs": [],
   "source": [
    "model = VGG16(weights='imagenet', include_top=True)"
   ]
  },
  {
   "cell_type": "markdown",
   "id": "0b1f45d6",
   "metadata": {},
   "source": [
    "- We need to use tf.keras.backened.function to execute one layer at a time. This gives us access to input/output values of each layer. We need the output values of the last layer to pass into the reversing layers. Where we each layer's output values are passed the the next layer up."
   ]
  },
  {
   "cell_type": "code",
   "execution_count": null,
   "id": "cdda0ec0",
   "metadata": {},
   "outputs": [],
   "source": [
    "class DLayer():\n",
    "    \"\"\"Base Layer for all the Reverse Layers like DConv2D, DMaxPooling2D etc.,\n",
    "    \n",
    "    Arguments:\n",
    "    layer - A trained Layer object like Conv2D, Dense etc., \n",
    "    \"\"\"\n",
    "    def __init__(self, layer):\n",
    "        # We don't get the weights in the base class since layers like MaxPooling2D\n",
    "        # don't have weights.\n",
    "        self.layer = layer\n",
    "        \n",
    "    def normal_pass(self, backend_function, data, learning_phase=0):\n",
    "        \"\"\"Computes the normal forward pass of an image through the network and returns the output\n",
    "        values of that layer.\n",
    "        \n",
    "        Arguments:\n",
    "        data - The output of the previous layer i.e., layer[i+1]\n",
    "        learning_phase - \n",
    "        \"\"\"\n",
    "        self.normal_data = backend_function([data, learning_phase])\n",
    "        return self.normal_data\n",
    "        \n",
    "    def reverse_pass(self, backend_function, data, learning_phase=0):\n",
    "        \"\"\"Computes the reversing of each layer. For example reversing a Conv2D layer by\n",
    "        tranposing its weights(feature maps) in vertical and horizontal direction and then\n",
    "        executing Conv2D on the tranposed weights.\n",
    "        \n",
    "        Arguments:\n",
    "        \"\"\"\n",
    "        self.reverse_data = backend_function([data, learning_phase])\n",
    "        return self.reverse_data\n",
    "    \n",
    "\n",
    "class DConv2D(DLayer):\n",
    "    \"\"\"\n",
    "    \"\"\"\n",
    "    def __init__(self, layer):"
   ]
  },
  {
   "cell_type": "code",
   "execution_count": null,
   "id": "67f6b7ae",
   "metadata": {},
   "outputs": [],
   "source": [
    "def visualize_layer(model, image, layer_name, max_activation_only=False):\n",
    "    \"\"\"Visualize a single Layer\n",
    "    \"\"\"\n",
    "    pass"
   ]
  }
 ],
 "metadata": {
  "kernelspec": {
   "display_name": "Python 3.8.5 64-bit ('ml': conda)",
   "language": "python",
   "name": "python385jvsc74a57bd0597ef2c4e330346690cfc3eee48a64f4a5787db7dc7ff65ed373f1569f4e13ec"
  },
  "language_info": {
   "codemirror_mode": {
    "name": "ipython",
    "version": 3
   },
   "file_extension": ".py",
   "mimetype": "text/x-python",
   "name": "python",
   "nbconvert_exporter": "python",
   "pygments_lexer": "ipython3",
   "version": "3.8.5"
  }
 },
 "nbformat": 4,
 "nbformat_minor": 5
}
